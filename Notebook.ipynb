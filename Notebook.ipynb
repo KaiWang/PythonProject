{
 "cells": [
  {
   "cell_type": "code",
   "execution_count": 120,
   "metadata": {
    "collapsed": true,
    "pycharm": {
     "is_executing": false
    }
   },
   "outputs": [
    {
     "data": {
      "text/plain": "['H', ', th', 's ', 's a str', 'ng']"
     },
     "metadata": {},
     "output_type": "execute_result",
     "execution_count": 120
    }
   ],
   "source": [
    "\"hello\"\n",
    "mystring = \"Hello World\"\n",
    "mystring\n",
    "mystring[4]\n",
    "mystring[0]\n",
    "mystring[8]\n",
    "mystring[-2]\n",
    "mystring = 'abcdefghijk'\n",
    "mystring[2]\n",
    "mystring[2:]\n",
    "\"########\"\n",
    "\"hello\"\n",
    "mystring = \"Hello World\"\n",
    "mystring\n",
    "mystring[4]\n",
    "mystring[0]\n",
    "mystring[8]\n",
    "mystring[-2]\n",
    "mystring = 'abcdefghijk'\n",
    "mystring[2]\n",
    "mystring[2:]\n",
    "mystring[:3]\n",
    "mystring[3:6]\n",
    "mystring[1:3]\n",
    "mystring[5:8]\n",
    "mystring[::2]\n",
    "mystring[2:7:1]\n",
    "name = \"Sam\"\n",
    "# name[0] = 'p'\n",
    "last_letters = name[1:]\n",
    "last_letters\n",
    "'P' + last_letters\n",
    "x = 'hello world, '\n",
    "x = x + \"it is beautiful outside!\"\n",
    "x\n",
    "\n",
    "x = 'hello world'\n",
    "x.capitalize()\n",
    "x.isspace()\n",
    "x='Hello word'\n",
    "x.isspace()\n",
    "x.upper()\n",
    "x.split()\n",
    "x = 'Hi, this is a string'\n",
    "x.split()\n",
    "x.split('i')"
   ]
  }
 ],
 "metadata": {
  "kernelspec": {
   "display_name": "Python 3",
   "language": "python",
   "name": "python3"
  },
  "language_info": {
   "codemirror_mode": {
    "name": "ipython",
    "version": 2
   },
   "file_extension": ".py",
   "mimetype": "text/x-python",
   "name": "python",
   "nbconvert_exporter": "python",
   "pygments_lexer": "ipython2",
   "version": "2.7.6"
  },
  "pycharm": {
   "stem_cell": {
    "cell_type": "raw",
    "source": [],
    "metadata": {
     "collapsed": false
    }
   }
  }
 },
 "nbformat": 4,
 "nbformat_minor": 0
}