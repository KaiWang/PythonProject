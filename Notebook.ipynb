{
 "cells": [
  {
   "cell_type": "code",
   "execution_count": 2,
   "metadata": {
    "collapsed": true,
    "pycharm": {
     "is_executing": false
    }
   },
   "outputs": [
    {
     "data": {
      "text/plain": "'cdefg'"
     },
     "metadata": {},
     "output_type": "execute_result",
     "execution_count": 2
    }
   ],
   "source": [
    "\"hello\"\n",
    "mystring = \"Hello World\"\n",
    "mystring\n",
    "mystring[4]\n",
    "mystring[0]\n",
    "mystring[8]\n",
    "mystring[-2]\n",
    "mystring = 'abcdefghijk'\n",
    "mystring[2]\n",
    "mystring[2:]\n",
    "\"########\"\n",
    "\"hello\"\n",
    "mystring = \"Hello World\"\n",
    "mystring\n",
    "mystring[4]\n",
    "mystring[0]\n",
    "mystring[8]\n",
    "mystring[-2]\n",
    "mystring = 'abcdefghijk'\n",
    "mystring[2]\n",
    "mystring[2:]\n",
    "mystring[:3]\n",
    "mystring[3:6]\n",
    "mystring[1:3]\n",
    "mystring[5:8]\n",
    "mystring[::2]\n",
    "mystring[2:7:1]"
   ]
  }
 ],
 "metadata": {
  "kernelspec": {
   "display_name": "Python 3",
   "language": "python",
   "name": "python3"
  },
  "language_info": {
   "codemirror_mode": {
    "name": "ipython",
    "version": 2
   },
   "file_extension": ".py",
   "mimetype": "text/x-python",
   "name": "python",
   "nbconvert_exporter": "python",
   "pygments_lexer": "ipython2",
   "version": "2.7.6"
  },
  "pycharm": {
   "stem_cell": {
    "cell_type": "raw",
    "source": [],
    "metadata": {
     "collapsed": false
    }
   }
  }
 },
 "nbformat": 4,
 "nbformat_minor": 0
}